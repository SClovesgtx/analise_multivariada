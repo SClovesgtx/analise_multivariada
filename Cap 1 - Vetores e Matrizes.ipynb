{
 "cells": [
  {
   "cell_type": "code",
   "execution_count": 1,
   "metadata": {},
   "outputs": [],
   "source": [
    "import numpy as np\n",
    "import matplotlib.pyplot as plt\n",
    "import math\n",
    "import pandas as pd\n",
    "import statistics\n",
    "import seaborn as sns"
   ]
  },
  {
   "cell_type": "markdown",
   "metadata": {},
   "source": [
    "# Vetores"
   ]
  },
  {
   "cell_type": "markdown",
   "metadata": {},
   "source": [
    "Um vetor $V_{1}$ da ordem (n x 1) é um conjunto ordenado de números reais (chamados de *escalares*), que podemos escrever como:\n",
    "\n",
    "$\\begin{align}\n",
    "    V_{1} &= \\begin{bmatrix}\n",
    "           x_{1} \\\\\n",
    "           x_{2} \\\\\n",
    "           \\vdots \\\\\n",
    "           x_{n}\n",
    "         \\end{bmatrix}\n",
    "  \\end{align}$\n",
    "  \n",
    "Um vetor coluna é a representação de todas as *n* observações para um determinado parâmetro dos dados.\n",
    "\n",
    "Já uma vetor linha representa uma determinada observação com todos os seus respectivos *m* parâmetros e é representado da seguinte maneira:\n",
    "\n",
    "$\\begin{align}\n",
    "    V_{1}' &= \\begin{bmatrix}\n",
    "          x_{1}\n",
    "          x_{2}\n",
    "          \\cdots\n",
    "          x_{m}\n",
    "          \\end{bmatrix}\n",
    "   \\end{align}$\n",
    "   \n",
    "Vetores podem ser representados como pontos no espaço euclidiano:\n",
    "\n",
    "<img src='img/1.png'>\n",
    "\n",
    "Como por setas:\n",
    "\n",
    "<img src='img/2.png'>"
   ]
  },
  {
   "cell_type": "markdown",
   "metadata": {},
   "source": [
    "Em Python podemos representar um vetor como um array do numpy:"
   ]
  },
  {
   "cell_type": "code",
   "execution_count": 2,
   "metadata": {},
   "outputs": [],
   "source": [
    "V1 = np.array([1, 0])"
   ]
  },
  {
   "cell_type": "code",
   "execution_count": 3,
   "metadata": {},
   "outputs": [],
   "source": [
    "V2 = np.array([1, 1])"
   ]
  },
  {
   "cell_type": "markdown",
   "metadata": {},
   "source": [
    "O protudo entre dois vetores pode ser feito da seguinte maneira:\n",
    "\n",
    "$\\vec{V_{1}}\\cdot{}\\vec{V_{2}} = v_{11}\\cdot{}v_{21} + v_{12}\\cdot{}v_{22} + \\cdots{} + v_{1n}\\cdot{}v_{2n}$\n",
    "\n",
    "Em Python podemos fazer isso da seguinte maneira:"
   ]
  },
  {
   "cell_type": "code",
   "execution_count": 4,
   "metadata": {},
   "outputs": [
    {
     "data": {
      "text/plain": [
       "1"
      ]
     },
     "execution_count": 4,
     "metadata": {},
     "output_type": "execute_result"
    }
   ],
   "source": [
    "produto_interno = np.dot(V1, V2)\n",
    "produto_interno"
   ]
  },
  {
   "cell_type": "markdown",
   "metadata": {},
   "source": [
    "A norma de um vetor é seu comprimento, usando Pitágoras temos:\n",
    "\n",
    "$\\|\\vec{V}\\| = \\sqrt{v_{1}^2 + v_{2}^2 + \\cdots + v_{n}^2}$\n",
    "\n",
    "\n",
    "<img src='img/3.png'>\n",
    "\n",
    "Em Python usamos o numpy para calcular isso da seguinte forma:"
   ]
  },
  {
   "cell_type": "code",
   "execution_count": 5,
   "metadata": {},
   "outputs": [
    {
     "data": {
      "text/plain": [
       "1.0"
      ]
     },
     "execution_count": 5,
     "metadata": {},
     "output_type": "execute_result"
    }
   ],
   "source": [
    "norma_v1 = np.linalg.norm(V1)\n",
    "norma_v1"
   ]
  },
  {
   "cell_type": "code",
   "execution_count": 6,
   "metadata": {},
   "outputs": [
    {
     "data": {
      "text/plain": [
       "1.4142135623730951"
      ]
     },
     "execution_count": 6,
     "metadata": {},
     "output_type": "execute_result"
    }
   ],
   "source": [
    "norma_v2 = np.linalg.norm(V2)\n",
    "norma_v2"
   ]
  },
  {
   "cell_type": "markdown",
   "metadata": {},
   "source": [
    "Podemos calcular o ângulo entre dois vetores da seguinte forma:\n",
    "\n",
    "$\\cos {(\\theta)} = \\frac{\\vec{V_{1}}\\cdot{}\\vec{V_{2}}}{\\|\\vec{V_{1}}\\|\\cdot{}\\|\\vec{V_{2}}\\|}$\n",
    "\n",
    "Portanto:"
   ]
  },
  {
   "cell_type": "code",
   "execution_count": 7,
   "metadata": {},
   "outputs": [
    {
     "data": {
      "text/plain": [
       "0.7071067811865475"
      ]
     },
     "execution_count": 7,
     "metadata": {},
     "output_type": "execute_result"
    }
   ],
   "source": [
    "cos_teta = produto_interno / float(norma_v1*norma_v2)\n",
    "cos_teta"
   ]
  },
  {
   "cell_type": "markdown",
   "metadata": {},
   "source": [
    "Portanto o ângolo $\\theta$ entre $V_{1}$ e $V_{2}$ é:"
   ]
  },
  {
   "cell_type": "code",
   "execution_count": 8,
   "metadata": {},
   "outputs": [
    {
     "data": {
      "text/plain": [
       "40.51423422706977"
      ]
     },
     "execution_count": 8,
     "metadata": {},
     "output_type": "execute_result"
    }
   ],
   "source": [
    "math.degrees(cos_teta)"
   ]
  },
  {
   "cell_type": "markdown",
   "metadata": {},
   "source": [
    "# Matrizes"
   ]
  },
  {
   "cell_type": "markdown",
   "metadata": {},
   "source": [
    "A Matriz **X** de ordem n x m é uma arranjo retangular dos números reais dispostos em n linhas e m colunas:\n",
    "\n",
    "$X =\\begin{bmatrix}\n",
    "    x_{11} & x_{12} & x_{13} & \\dots  & x_{1n} \\\\\n",
    "    x_{21} & x_{22} & x_{23} & \\dots  & x_{2n} \\\\\n",
    "    \\vdots & \\vdots & \\vdots & \\ddots & \\vdots \\\\\n",
    "    x_{d1} & x_{d2} & x_{d3} & \\dots  & x_{dn}\n",
    "\\end{bmatrix}$\n",
    "\n",
    "Uma tabela de dados numéricos é uma matriz. Vamos criar uma tabela de dados que contenha a altura e peso de 20 mulheres:"
   ]
  },
  {
   "cell_type": "code",
   "execution_count": 9,
   "metadata": {},
   "outputs": [],
   "source": [
    "# altura em polegadas\n",
    "altura = [57, 58, 60, 59, 61, 60, 62, 61, 62, 63, 62, 64, 63, 65, 64, 66, 67, 66, 68, 69]\n",
    "\n",
    "# peso em libras\n",
    "peso = [93, 110, 99, 111, 115, 122, 110, 116, 122, 128, 134, 117, 123, 129, 135, 128, 135, 148, 142, 155]"
   ]
  },
  {
   "cell_type": "code",
   "execution_count": 10,
   "metadata": {},
   "outputs": [],
   "source": [
    "df = pd.DataFrame()\n",
    "df['altura'] = altura\n",
    "df['peso'] = peso"
   ]
  },
  {
   "cell_type": "code",
   "execution_count": 11,
   "metadata": {},
   "outputs": [
    {
     "data": {
      "text/html": [
       "<div>\n",
       "<style scoped>\n",
       "    .dataframe tbody tr th:only-of-type {\n",
       "        vertical-align: middle;\n",
       "    }\n",
       "\n",
       "    .dataframe tbody tr th {\n",
       "        vertical-align: top;\n",
       "    }\n",
       "\n",
       "    .dataframe thead th {\n",
       "        text-align: right;\n",
       "    }\n",
       "</style>\n",
       "<table border=\"1\" class=\"dataframe\">\n",
       "  <thead>\n",
       "    <tr style=\"text-align: right;\">\n",
       "      <th></th>\n",
       "      <th>altura</th>\n",
       "      <th>peso</th>\n",
       "    </tr>\n",
       "  </thead>\n",
       "  <tbody>\n",
       "    <tr>\n",
       "      <th>0</th>\n",
       "      <td>57</td>\n",
       "      <td>93</td>\n",
       "    </tr>\n",
       "    <tr>\n",
       "      <th>1</th>\n",
       "      <td>58</td>\n",
       "      <td>110</td>\n",
       "    </tr>\n",
       "    <tr>\n",
       "      <th>2</th>\n",
       "      <td>60</td>\n",
       "      <td>99</td>\n",
       "    </tr>\n",
       "    <tr>\n",
       "      <th>3</th>\n",
       "      <td>59</td>\n",
       "      <td>111</td>\n",
       "    </tr>\n",
       "    <tr>\n",
       "      <th>4</th>\n",
       "      <td>61</td>\n",
       "      <td>115</td>\n",
       "    </tr>\n",
       "    <tr>\n",
       "      <th>5</th>\n",
       "      <td>60</td>\n",
       "      <td>122</td>\n",
       "    </tr>\n",
       "    <tr>\n",
       "      <th>6</th>\n",
       "      <td>62</td>\n",
       "      <td>110</td>\n",
       "    </tr>\n",
       "    <tr>\n",
       "      <th>7</th>\n",
       "      <td>61</td>\n",
       "      <td>116</td>\n",
       "    </tr>\n",
       "    <tr>\n",
       "      <th>8</th>\n",
       "      <td>62</td>\n",
       "      <td>122</td>\n",
       "    </tr>\n",
       "    <tr>\n",
       "      <th>9</th>\n",
       "      <td>63</td>\n",
       "      <td>128</td>\n",
       "    </tr>\n",
       "    <tr>\n",
       "      <th>10</th>\n",
       "      <td>62</td>\n",
       "      <td>134</td>\n",
       "    </tr>\n",
       "    <tr>\n",
       "      <th>11</th>\n",
       "      <td>64</td>\n",
       "      <td>117</td>\n",
       "    </tr>\n",
       "    <tr>\n",
       "      <th>12</th>\n",
       "      <td>63</td>\n",
       "      <td>123</td>\n",
       "    </tr>\n",
       "    <tr>\n",
       "      <th>13</th>\n",
       "      <td>65</td>\n",
       "      <td>129</td>\n",
       "    </tr>\n",
       "    <tr>\n",
       "      <th>14</th>\n",
       "      <td>64</td>\n",
       "      <td>135</td>\n",
       "    </tr>\n",
       "    <tr>\n",
       "      <th>15</th>\n",
       "      <td>66</td>\n",
       "      <td>128</td>\n",
       "    </tr>\n",
       "    <tr>\n",
       "      <th>16</th>\n",
       "      <td>67</td>\n",
       "      <td>135</td>\n",
       "    </tr>\n",
       "    <tr>\n",
       "      <th>17</th>\n",
       "      <td>66</td>\n",
       "      <td>148</td>\n",
       "    </tr>\n",
       "    <tr>\n",
       "      <th>18</th>\n",
       "      <td>68</td>\n",
       "      <td>142</td>\n",
       "    </tr>\n",
       "    <tr>\n",
       "      <th>19</th>\n",
       "      <td>69</td>\n",
       "      <td>155</td>\n",
       "    </tr>\n",
       "  </tbody>\n",
       "</table>\n",
       "</div>"
      ],
      "text/plain": [
       "    altura  peso\n",
       "0       57    93\n",
       "1       58   110\n",
       "2       60    99\n",
       "3       59   111\n",
       "4       61   115\n",
       "5       60   122\n",
       "6       62   110\n",
       "7       61   116\n",
       "8       62   122\n",
       "9       63   128\n",
       "10      62   134\n",
       "11      64   117\n",
       "12      63   123\n",
       "13      65   129\n",
       "14      64   135\n",
       "15      66   128\n",
       "16      67   135\n",
       "17      66   148\n",
       "18      68   142\n",
       "19      69   155"
      ]
     },
     "execution_count": 11,
     "metadata": {},
     "output_type": "execute_result"
    }
   ],
   "source": [
    "df"
   ]
  },
  {
   "cell_type": "markdown",
   "metadata": {},
   "source": [
    "Vamos obter o desvio da média para altura e o peso, ou seja, a diferença entre o valor do parâmetro em questão e sua média:"
   ]
  },
  {
   "cell_type": "code",
   "execution_count": 12,
   "metadata": {},
   "outputs": [],
   "source": [
    "df['desvio_altura'] = df['altura'] - df['altura'].mean()\n",
    "df['desvio_peso'] = df['peso'] - df['peso'].mean()"
   ]
  },
  {
   "cell_type": "code",
   "execution_count": 13,
   "metadata": {},
   "outputs": [
    {
     "data": {
      "text/html": [
       "<div>\n",
       "<style scoped>\n",
       "    .dataframe tbody tr th:only-of-type {\n",
       "        vertical-align: middle;\n",
       "    }\n",
       "\n",
       "    .dataframe tbody tr th {\n",
       "        vertical-align: top;\n",
       "    }\n",
       "\n",
       "    .dataframe thead th {\n",
       "        text-align: right;\n",
       "    }\n",
       "</style>\n",
       "<table border=\"1\" class=\"dataframe\">\n",
       "  <thead>\n",
       "    <tr style=\"text-align: right;\">\n",
       "      <th></th>\n",
       "      <th>altura</th>\n",
       "      <th>peso</th>\n",
       "      <th>desvio_altura</th>\n",
       "      <th>desvio_peso</th>\n",
       "    </tr>\n",
       "  </thead>\n",
       "  <tbody>\n",
       "    <tr>\n",
       "      <th>0</th>\n",
       "      <td>57</td>\n",
       "      <td>93</td>\n",
       "      <td>-5.85</td>\n",
       "      <td>-30.6</td>\n",
       "    </tr>\n",
       "    <tr>\n",
       "      <th>1</th>\n",
       "      <td>58</td>\n",
       "      <td>110</td>\n",
       "      <td>-4.85</td>\n",
       "      <td>-13.6</td>\n",
       "    </tr>\n",
       "    <tr>\n",
       "      <th>2</th>\n",
       "      <td>60</td>\n",
       "      <td>99</td>\n",
       "      <td>-2.85</td>\n",
       "      <td>-24.6</td>\n",
       "    </tr>\n",
       "    <tr>\n",
       "      <th>3</th>\n",
       "      <td>59</td>\n",
       "      <td>111</td>\n",
       "      <td>-3.85</td>\n",
       "      <td>-12.6</td>\n",
       "    </tr>\n",
       "    <tr>\n",
       "      <th>4</th>\n",
       "      <td>61</td>\n",
       "      <td>115</td>\n",
       "      <td>-1.85</td>\n",
       "      <td>-8.6</td>\n",
       "    </tr>\n",
       "    <tr>\n",
       "      <th>5</th>\n",
       "      <td>60</td>\n",
       "      <td>122</td>\n",
       "      <td>-2.85</td>\n",
       "      <td>-1.6</td>\n",
       "    </tr>\n",
       "    <tr>\n",
       "      <th>6</th>\n",
       "      <td>62</td>\n",
       "      <td>110</td>\n",
       "      <td>-0.85</td>\n",
       "      <td>-13.6</td>\n",
       "    </tr>\n",
       "    <tr>\n",
       "      <th>7</th>\n",
       "      <td>61</td>\n",
       "      <td>116</td>\n",
       "      <td>-1.85</td>\n",
       "      <td>-7.6</td>\n",
       "    </tr>\n",
       "    <tr>\n",
       "      <th>8</th>\n",
       "      <td>62</td>\n",
       "      <td>122</td>\n",
       "      <td>-0.85</td>\n",
       "      <td>-1.6</td>\n",
       "    </tr>\n",
       "    <tr>\n",
       "      <th>9</th>\n",
       "      <td>63</td>\n",
       "      <td>128</td>\n",
       "      <td>0.15</td>\n",
       "      <td>4.4</td>\n",
       "    </tr>\n",
       "    <tr>\n",
       "      <th>10</th>\n",
       "      <td>62</td>\n",
       "      <td>134</td>\n",
       "      <td>-0.85</td>\n",
       "      <td>10.4</td>\n",
       "    </tr>\n",
       "    <tr>\n",
       "      <th>11</th>\n",
       "      <td>64</td>\n",
       "      <td>117</td>\n",
       "      <td>1.15</td>\n",
       "      <td>-6.6</td>\n",
       "    </tr>\n",
       "    <tr>\n",
       "      <th>12</th>\n",
       "      <td>63</td>\n",
       "      <td>123</td>\n",
       "      <td>0.15</td>\n",
       "      <td>-0.6</td>\n",
       "    </tr>\n",
       "    <tr>\n",
       "      <th>13</th>\n",
       "      <td>65</td>\n",
       "      <td>129</td>\n",
       "      <td>2.15</td>\n",
       "      <td>5.4</td>\n",
       "    </tr>\n",
       "    <tr>\n",
       "      <th>14</th>\n",
       "      <td>64</td>\n",
       "      <td>135</td>\n",
       "      <td>1.15</td>\n",
       "      <td>11.4</td>\n",
       "    </tr>\n",
       "    <tr>\n",
       "      <th>15</th>\n",
       "      <td>66</td>\n",
       "      <td>128</td>\n",
       "      <td>3.15</td>\n",
       "      <td>4.4</td>\n",
       "    </tr>\n",
       "    <tr>\n",
       "      <th>16</th>\n",
       "      <td>67</td>\n",
       "      <td>135</td>\n",
       "      <td>4.15</td>\n",
       "      <td>11.4</td>\n",
       "    </tr>\n",
       "    <tr>\n",
       "      <th>17</th>\n",
       "      <td>66</td>\n",
       "      <td>148</td>\n",
       "      <td>3.15</td>\n",
       "      <td>24.4</td>\n",
       "    </tr>\n",
       "    <tr>\n",
       "      <th>18</th>\n",
       "      <td>68</td>\n",
       "      <td>142</td>\n",
       "      <td>5.15</td>\n",
       "      <td>18.4</td>\n",
       "    </tr>\n",
       "    <tr>\n",
       "      <th>19</th>\n",
       "      <td>69</td>\n",
       "      <td>155</td>\n",
       "      <td>6.15</td>\n",
       "      <td>31.4</td>\n",
       "    </tr>\n",
       "  </tbody>\n",
       "</table>\n",
       "</div>"
      ],
      "text/plain": [
       "    altura  peso  desvio_altura  desvio_peso\n",
       "0       57    93          -5.85        -30.6\n",
       "1       58   110          -4.85        -13.6\n",
       "2       60    99          -2.85        -24.6\n",
       "3       59   111          -3.85        -12.6\n",
       "4       61   115          -1.85         -8.6\n",
       "5       60   122          -2.85         -1.6\n",
       "6       62   110          -0.85        -13.6\n",
       "7       61   116          -1.85         -7.6\n",
       "8       62   122          -0.85         -1.6\n",
       "9       63   128           0.15          4.4\n",
       "10      62   134          -0.85         10.4\n",
       "11      64   117           1.15         -6.6\n",
       "12      63   123           0.15         -0.6\n",
       "13      65   129           2.15          5.4\n",
       "14      64   135           1.15         11.4\n",
       "15      66   128           3.15          4.4\n",
       "16      67   135           4.15         11.4\n",
       "17      66   148           3.15         24.4\n",
       "18      68   142           5.15         18.4\n",
       "19      69   155           6.15         31.4"
      ]
     },
     "execution_count": 13,
     "metadata": {},
     "output_type": "execute_result"
    }
   ],
   "source": [
    "df"
   ]
  },
  {
   "cell_type": "markdown",
   "metadata": {},
   "source": [
    "Como temos medidas diferentes para cada variável, é preciso padroniza-las, ou normaliza-las. Podemos fazer isso subtraindo cada valor pela sua média e dividindo pelo desvio padrão, assim podemos comparar as duas variáveis por quão distante em termos de desvio padrão cada valor se encontra de sua média."
   ]
  },
  {
   "cell_type": "code",
   "execution_count": 14,
   "metadata": {},
   "outputs": [],
   "source": [
    "df['altura_norm'] = df['desvio_altura'] / df['altura'].std()\n",
    "df['peso_norm'] = df['desvio_peso'] / df['peso'].std()"
   ]
  },
  {
   "cell_type": "code",
   "execution_count": 15,
   "metadata": {},
   "outputs": [
    {
     "data": {
      "text/html": [
       "<div>\n",
       "<style scoped>\n",
       "    .dataframe tbody tr th:only-of-type {\n",
       "        vertical-align: middle;\n",
       "    }\n",
       "\n",
       "    .dataframe tbody tr th {\n",
       "        vertical-align: top;\n",
       "    }\n",
       "\n",
       "    .dataframe thead th {\n",
       "        text-align: right;\n",
       "    }\n",
       "</style>\n",
       "<table border=\"1\" class=\"dataframe\">\n",
       "  <thead>\n",
       "    <tr style=\"text-align: right;\">\n",
       "      <th></th>\n",
       "      <th>altura</th>\n",
       "      <th>peso</th>\n",
       "      <th>desvio_altura</th>\n",
       "      <th>desvio_peso</th>\n",
       "      <th>altura_norm</th>\n",
       "      <th>peso_norm</th>\n",
       "    </tr>\n",
       "  </thead>\n",
       "  <tbody>\n",
       "    <tr>\n",
       "      <th>0</th>\n",
       "      <td>57</td>\n",
       "      <td>93</td>\n",
       "      <td>-5.85</td>\n",
       "      <td>-30.6</td>\n",
       "      <td>-1.774271</td>\n",
       "      <td>-1.965163</td>\n",
       "    </tr>\n",
       "    <tr>\n",
       "      <th>1</th>\n",
       "      <td>58</td>\n",
       "      <td>110</td>\n",
       "      <td>-4.85</td>\n",
       "      <td>-13.6</td>\n",
       "      <td>-1.470977</td>\n",
       "      <td>-0.873406</td>\n",
       "    </tr>\n",
       "    <tr>\n",
       "      <th>2</th>\n",
       "      <td>60</td>\n",
       "      <td>99</td>\n",
       "      <td>-2.85</td>\n",
       "      <td>-24.6</td>\n",
       "      <td>-0.864389</td>\n",
       "      <td>-1.579837</td>\n",
       "    </tr>\n",
       "    <tr>\n",
       "      <th>3</th>\n",
       "      <td>59</td>\n",
       "      <td>111</td>\n",
       "      <td>-3.85</td>\n",
       "      <td>-12.6</td>\n",
       "      <td>-1.167683</td>\n",
       "      <td>-0.809185</td>\n",
       "    </tr>\n",
       "    <tr>\n",
       "      <th>4</th>\n",
       "      <td>61</td>\n",
       "      <td>115</td>\n",
       "      <td>-1.85</td>\n",
       "      <td>-8.6</td>\n",
       "      <td>-0.561094</td>\n",
       "      <td>-0.552301</td>\n",
       "    </tr>\n",
       "    <tr>\n",
       "      <th>5</th>\n",
       "      <td>60</td>\n",
       "      <td>122</td>\n",
       "      <td>-2.85</td>\n",
       "      <td>-1.6</td>\n",
       "      <td>-0.864389</td>\n",
       "      <td>-0.102754</td>\n",
       "    </tr>\n",
       "    <tr>\n",
       "      <th>6</th>\n",
       "      <td>62</td>\n",
       "      <td>110</td>\n",
       "      <td>-0.85</td>\n",
       "      <td>-13.6</td>\n",
       "      <td>-0.257800</td>\n",
       "      <td>-0.873406</td>\n",
       "    </tr>\n",
       "    <tr>\n",
       "      <th>7</th>\n",
       "      <td>61</td>\n",
       "      <td>116</td>\n",
       "      <td>-1.85</td>\n",
       "      <td>-7.6</td>\n",
       "      <td>-0.561094</td>\n",
       "      <td>-0.488080</td>\n",
       "    </tr>\n",
       "    <tr>\n",
       "      <th>8</th>\n",
       "      <td>62</td>\n",
       "      <td>122</td>\n",
       "      <td>-0.85</td>\n",
       "      <td>-1.6</td>\n",
       "      <td>-0.257800</td>\n",
       "      <td>-0.102754</td>\n",
       "    </tr>\n",
       "    <tr>\n",
       "      <th>9</th>\n",
       "      <td>63</td>\n",
       "      <td>128</td>\n",
       "      <td>0.15</td>\n",
       "      <td>4.4</td>\n",
       "      <td>0.045494</td>\n",
       "      <td>0.282572</td>\n",
       "    </tr>\n",
       "    <tr>\n",
       "      <th>10</th>\n",
       "      <td>62</td>\n",
       "      <td>134</td>\n",
       "      <td>-0.85</td>\n",
       "      <td>10.4</td>\n",
       "      <td>-0.257800</td>\n",
       "      <td>0.667898</td>\n",
       "    </tr>\n",
       "    <tr>\n",
       "      <th>11</th>\n",
       "      <td>64</td>\n",
       "      <td>117</td>\n",
       "      <td>1.15</td>\n",
       "      <td>-6.6</td>\n",
       "      <td>0.348788</td>\n",
       "      <td>-0.423859</td>\n",
       "    </tr>\n",
       "    <tr>\n",
       "      <th>12</th>\n",
       "      <td>63</td>\n",
       "      <td>123</td>\n",
       "      <td>0.15</td>\n",
       "      <td>-0.6</td>\n",
       "      <td>0.045494</td>\n",
       "      <td>-0.038533</td>\n",
       "    </tr>\n",
       "    <tr>\n",
       "      <th>13</th>\n",
       "      <td>65</td>\n",
       "      <td>129</td>\n",
       "      <td>2.15</td>\n",
       "      <td>5.4</td>\n",
       "      <td>0.652083</td>\n",
       "      <td>0.346793</td>\n",
       "    </tr>\n",
       "    <tr>\n",
       "      <th>14</th>\n",
       "      <td>64</td>\n",
       "      <td>135</td>\n",
       "      <td>1.15</td>\n",
       "      <td>11.4</td>\n",
       "      <td>0.348788</td>\n",
       "      <td>0.732119</td>\n",
       "    </tr>\n",
       "    <tr>\n",
       "      <th>15</th>\n",
       "      <td>66</td>\n",
       "      <td>128</td>\n",
       "      <td>3.15</td>\n",
       "      <td>4.4</td>\n",
       "      <td>0.955377</td>\n",
       "      <td>0.282572</td>\n",
       "    </tr>\n",
       "    <tr>\n",
       "      <th>16</th>\n",
       "      <td>67</td>\n",
       "      <td>135</td>\n",
       "      <td>4.15</td>\n",
       "      <td>11.4</td>\n",
       "      <td>1.258671</td>\n",
       "      <td>0.732119</td>\n",
       "    </tr>\n",
       "    <tr>\n",
       "      <th>17</th>\n",
       "      <td>66</td>\n",
       "      <td>148</td>\n",
       "      <td>3.15</td>\n",
       "      <td>24.4</td>\n",
       "      <td>0.955377</td>\n",
       "      <td>1.566993</td>\n",
       "    </tr>\n",
       "    <tr>\n",
       "      <th>18</th>\n",
       "      <td>68</td>\n",
       "      <td>142</td>\n",
       "      <td>5.15</td>\n",
       "      <td>18.4</td>\n",
       "      <td>1.561965</td>\n",
       "      <td>1.181667</td>\n",
       "    </tr>\n",
       "    <tr>\n",
       "      <th>19</th>\n",
       "      <td>69</td>\n",
       "      <td>155</td>\n",
       "      <td>6.15</td>\n",
       "      <td>31.4</td>\n",
       "      <td>1.865260</td>\n",
       "      <td>2.016540</td>\n",
       "    </tr>\n",
       "  </tbody>\n",
       "</table>\n",
       "</div>"
      ],
      "text/plain": [
       "    altura  peso  desvio_altura  desvio_peso  altura_norm  peso_norm\n",
       "0       57    93          -5.85        -30.6    -1.774271  -1.965163\n",
       "1       58   110          -4.85        -13.6    -1.470977  -0.873406\n",
       "2       60    99          -2.85        -24.6    -0.864389  -1.579837\n",
       "3       59   111          -3.85        -12.6    -1.167683  -0.809185\n",
       "4       61   115          -1.85         -8.6    -0.561094  -0.552301\n",
       "5       60   122          -2.85         -1.6    -0.864389  -0.102754\n",
       "6       62   110          -0.85        -13.6    -0.257800  -0.873406\n",
       "7       61   116          -1.85         -7.6    -0.561094  -0.488080\n",
       "8       62   122          -0.85         -1.6    -0.257800  -0.102754\n",
       "9       63   128           0.15          4.4     0.045494   0.282572\n",
       "10      62   134          -0.85         10.4    -0.257800   0.667898\n",
       "11      64   117           1.15         -6.6     0.348788  -0.423859\n",
       "12      63   123           0.15         -0.6     0.045494  -0.038533\n",
       "13      65   129           2.15          5.4     0.652083   0.346793\n",
       "14      64   135           1.15         11.4     0.348788   0.732119\n",
       "15      66   128           3.15          4.4     0.955377   0.282572\n",
       "16      67   135           4.15         11.4     1.258671   0.732119\n",
       "17      66   148           3.15         24.4     0.955377   1.566993\n",
       "18      68   142           5.15         18.4     1.561965   1.181667\n",
       "19      69   155           6.15         31.4     1.865260   2.016540"
      ]
     },
     "execution_count": 15,
     "metadata": {},
     "output_type": "execute_result"
    }
   ],
   "source": [
    "df"
   ]
  },
  {
   "cell_type": "markdown",
   "metadata": {},
   "source": [
    "Podemos dizer para obervação 0 que ela está com altura 1.77 desvios padrões abaixo da média e peso 1.96 desvios padrões abaixo da média. "
   ]
  },
  {
   "cell_type": "markdown",
   "metadata": {},
   "source": [
    "Vamos dar uma olhada no gráfico de dispersão entre peso versus altura."
   ]
  },
  {
   "cell_type": "code",
   "execution_count": 19,
   "metadata": {},
   "outputs": [
    {
     "data": {
      "image/png": "[encoded data removed]",
      "text/plain": [
       "<Figure size 432x432 with 3 Axes>"
      ]
     },
     "metadata": {
      "needs_background": "light"
     },
     "output_type": "display_data"
    }
   ],
   "source": [
    "sns.jointplot(x='altura', y='peso', data=df);"
   ]
  },
  {
   "cell_type": "markdown",
   "metadata": {},
   "source": [
    "Se usarmos os valores da normalização, centramos os vetores no ponto de origem do espaço eucliadiano (0, 0), preservando a configuração dos pontos."
   ]
  },
  {
   "cell_type": "code",
   "execution_count": 20,
   "metadata": {},
   "outputs": [
    {
     "data": {
      "image/png": "[encoded data removed]",
      "text/plain": [
       "<Figure size 432x432 with 3 Axes>"
      ]
     },
     "metadata": {
      "needs_background": "light"
     },
     "output_type": "display_data"
    }
   ],
   "source": [
    "sns.jointplot(x='altura_norm', y='peso_norm', data=df);"
   ]
  },
  {
   "cell_type": "markdown",
   "metadata": {},
   "source": [
    "O que podemos obter é uma vetor de pesos $W'$ onde podemos projetar os outros vetores através do produto interno entre $W'$ e $\\vec{V_{i}}$. Exemplo, tomemos $W' = (w_{1}, w_{2}) = (1, 1)$\n",
    "\n",
    "<img src='img/4.jpeg'>"
   ]
  },
  {
   "cell_type": "code",
   "execution_count": 29,
   "metadata": {},
   "outputs": [],
   "source": [
    "w_linha = np.array([1, 1])"
   ]
  },
  {
   "cell_type": "markdown",
   "metadata": {},
   "source": [
    "Podemos normalizar esse vetor de pesos:"
   ]
  },
  {
   "cell_type": "code",
   "execution_count": 39,
   "metadata": {},
   "outputs": [
    {
     "data": {
      "text/plain": [
       "array([0.70710678, 0.70710678])"
      ]
     },
     "execution_count": 39,
     "metadata": {},
     "output_type": "execute_result"
    }
   ],
   "source": [
    "norm = np.linalg.norm(w_linha)\n",
    "w = w_linha / norm\n",
    "w"
   ]
  },
  {
   "cell_type": "markdown",
   "metadata": {},
   "source": [
    "<img src='img/5.jpeg'>\n",
    "\n",
    "<img src='img/6.jpeg'>"
   ]
  },
  {
   "cell_type": "markdown",
   "metadata": {},
   "source": [
    "# Exercícios"
   ]
  },
  {
   "cell_type": "code",
   "execution_count": 62,
   "metadata": {},
   "outputs": [],
   "source": [
    "educ_scores = pd.DataFrame()"
   ]
  },
  {
   "cell_type": "code",
   "execution_count": 63,
   "metadata": {},
   "outputs": [],
   "source": [
    "estudante = list('ABCDEFGH')\n",
    "linguagem = [2, 6, 5, 9, 11, 12, 1, 7]\n",
    "raciocinio_logico = [3, 8, 2, 4, 10, 15, 4, 3]\n",
    "raciocinio_geom = [15, 9, 7, 3, 2, 1, 12, 4]\n",
    "sexo = [1, 1, 0, 1, 0, 0, 1, 0]"
   ]
  },
  {
   "cell_type": "code",
   "execution_count": 64,
   "metadata": {},
   "outputs": [],
   "source": [
    "educ_scores['estudante'] = estudante\n",
    "educ_scores['linguagem'] = linguagem\n",
    "educ_scores['raciocinio_logico'] = raciocinio_logico\n",
    "educ_scores['raciocinio_geom'] = raciocinio_geom\n",
    "educ_scores['sexo'] = sexo"
   ]
  },
  {
   "cell_type": "code",
   "execution_count": 65,
   "metadata": {},
   "outputs": [
    {
     "data": {
      "text/html": [
       "<div>\n",
       "<style scoped>\n",
       "    .dataframe tbody tr th:only-of-type {\n",
       "        vertical-align: middle;\n",
       "    }\n",
       "\n",
       "    .dataframe tbody tr th {\n",
       "        vertical-align: top;\n",
       "    }\n",
       "\n",
       "    .dataframe thead th {\n",
       "        text-align: right;\n",
       "    }\n",
       "</style>\n",
       "<table border=\"1\" class=\"dataframe\">\n",
       "  <thead>\n",
       "    <tr style=\"text-align: right;\">\n",
       "      <th></th>\n",
       "      <th>estudante</th>\n",
       "      <th>linguagem</th>\n",
       "      <th>raciocinio_logico</th>\n",
       "      <th>raciocinio_geom</th>\n",
       "      <th>sexo</th>\n",
       "    </tr>\n",
       "  </thead>\n",
       "  <tbody>\n",
       "    <tr>\n",
       "      <th>0</th>\n",
       "      <td>A</td>\n",
       "      <td>2</td>\n",
       "      <td>3</td>\n",
       "      <td>15</td>\n",
       "      <td>1</td>\n",
       "    </tr>\n",
       "    <tr>\n",
       "      <th>1</th>\n",
       "      <td>B</td>\n",
       "      <td>6</td>\n",
       "      <td>8</td>\n",
       "      <td>9</td>\n",
       "      <td>1</td>\n",
       "    </tr>\n",
       "    <tr>\n",
       "      <th>2</th>\n",
       "      <td>C</td>\n",
       "      <td>5</td>\n",
       "      <td>2</td>\n",
       "      <td>7</td>\n",
       "      <td>0</td>\n",
       "    </tr>\n",
       "    <tr>\n",
       "      <th>3</th>\n",
       "      <td>D</td>\n",
       "      <td>9</td>\n",
       "      <td>4</td>\n",
       "      <td>3</td>\n",
       "      <td>1</td>\n",
       "    </tr>\n",
       "    <tr>\n",
       "      <th>4</th>\n",
       "      <td>E</td>\n",
       "      <td>11</td>\n",
       "      <td>10</td>\n",
       "      <td>2</td>\n",
       "      <td>0</td>\n",
       "    </tr>\n",
       "    <tr>\n",
       "      <th>5</th>\n",
       "      <td>F</td>\n",
       "      <td>12</td>\n",
       "      <td>15</td>\n",
       "      <td>1</td>\n",
       "      <td>0</td>\n",
       "    </tr>\n",
       "    <tr>\n",
       "      <th>6</th>\n",
       "      <td>G</td>\n",
       "      <td>1</td>\n",
       "      <td>4</td>\n",
       "      <td>12</td>\n",
       "      <td>1</td>\n",
       "    </tr>\n",
       "    <tr>\n",
       "      <th>7</th>\n",
       "      <td>H</td>\n",
       "      <td>7</td>\n",
       "      <td>3</td>\n",
       "      <td>4</td>\n",
       "      <td>0</td>\n",
       "    </tr>\n",
       "  </tbody>\n",
       "</table>\n",
       "</div>"
      ],
      "text/plain": [
       "  estudante  linguagem  raciocinio_logico  raciocinio_geom  sexo\n",
       "0         A          2                  3               15     1\n",
       "1         B          6                  8                9     1\n",
       "2         C          5                  2                7     0\n",
       "3         D          9                  4                3     1\n",
       "4         E         11                 10                2     0\n",
       "5         F         12                 15                1     0\n",
       "6         G          1                  4               12     1\n",
       "7         H          7                  3                4     0"
      ]
     },
     "execution_count": 65,
     "metadata": {},
     "output_type": "execute_result"
    }
   ],
   "source": [
    "educ_scores"
   ]
  },
  {
   "cell_type": "code",
   "execution_count": 66,
   "metadata": {},
   "outputs": [
    {
     "name": "stdout",
     "output_type": "stream",
     "text": [
      "O vetor centroide é (6.625000, 6.125000, 6.625000)\n"
     ]
    }
   ],
   "source": [
    "# a vetor centroide\n",
    "x1 = educ_scores['linguagem'].mean()\n",
    "x2 = educ_scores['raciocinio_logico'].mean()\n",
    "x3 = educ_scores['raciocinio_geom'].mean()\n",
    "\n",
    "print('O vetor centroide é (%f, %f, %f)' %(x1, x2, x3))"
   ]
  },
  {
   "cell_type": "code",
   "execution_count": 67,
   "metadata": {},
   "outputs": [],
   "source": [
    "# matriz de média diferenciada\n",
    "educ_scores['lin_des'] = educ_scores['linguagem'] - x1\n",
    "educ_scores['rac_log_des'] = educ_scores['raciocinio_logico'] - x2\n",
    "educ_scores['rac_geo_des'] = educ_scores['raciocinio_geom'] - x3"
   ]
  },
  {
   "cell_type": "code",
   "execution_count": 68,
   "metadata": {},
   "outputs": [
    {
     "data": {
      "text/html": [
       "<div>\n",
       "<style scoped>\n",
       "    .dataframe tbody tr th:only-of-type {\n",
       "        vertical-align: middle;\n",
       "    }\n",
       "\n",
       "    .dataframe tbody tr th {\n",
       "        vertical-align: top;\n",
       "    }\n",
       "\n",
       "    .dataframe thead th {\n",
       "        text-align: right;\n",
       "    }\n",
       "</style>\n",
       "<table border=\"1\" class=\"dataframe\">\n",
       "  <thead>\n",
       "    <tr style=\"text-align: right;\">\n",
       "      <th></th>\n",
       "      <th>estudante</th>\n",
       "      <th>linguagem</th>\n",
       "      <th>raciocinio_logico</th>\n",
       "      <th>raciocinio_geom</th>\n",
       "      <th>sexo</th>\n",
       "      <th>lin_des</th>\n",
       "      <th>rac_log_des</th>\n",
       "      <th>rac_geo_des</th>\n",
       "    </tr>\n",
       "  </thead>\n",
       "  <tbody>\n",
       "    <tr>\n",
       "      <th>0</th>\n",
       "      <td>A</td>\n",
       "      <td>2</td>\n",
       "      <td>3</td>\n",
       "      <td>15</td>\n",
       "      <td>1</td>\n",
       "      <td>-4.625</td>\n",
       "      <td>-3.125</td>\n",
       "      <td>8.375</td>\n",
       "    </tr>\n",
       "    <tr>\n",
       "      <th>1</th>\n",
       "      <td>B</td>\n",
       "      <td>6</td>\n",
       "      <td>8</td>\n",
       "      <td>9</td>\n",
       "      <td>1</td>\n",
       "      <td>-0.625</td>\n",
       "      <td>1.875</td>\n",
       "      <td>2.375</td>\n",
       "    </tr>\n",
       "    <tr>\n",
       "      <th>2</th>\n",
       "      <td>C</td>\n",
       "      <td>5</td>\n",
       "      <td>2</td>\n",
       "      <td>7</td>\n",
       "      <td>0</td>\n",
       "      <td>-1.625</td>\n",
       "      <td>-4.125</td>\n",
       "      <td>0.375</td>\n",
       "    </tr>\n",
       "    <tr>\n",
       "      <th>3</th>\n",
       "      <td>D</td>\n",
       "      <td>9</td>\n",
       "      <td>4</td>\n",
       "      <td>3</td>\n",
       "      <td>1</td>\n",
       "      <td>2.375</td>\n",
       "      <td>-2.125</td>\n",
       "      <td>-3.625</td>\n",
       "    </tr>\n",
       "    <tr>\n",
       "      <th>4</th>\n",
       "      <td>E</td>\n",
       "      <td>11</td>\n",
       "      <td>10</td>\n",
       "      <td>2</td>\n",
       "      <td>0</td>\n",
       "      <td>4.375</td>\n",
       "      <td>3.875</td>\n",
       "      <td>-4.625</td>\n",
       "    </tr>\n",
       "    <tr>\n",
       "      <th>5</th>\n",
       "      <td>F</td>\n",
       "      <td>12</td>\n",
       "      <td>15</td>\n",
       "      <td>1</td>\n",
       "      <td>0</td>\n",
       "      <td>5.375</td>\n",
       "      <td>8.875</td>\n",
       "      <td>-5.625</td>\n",
       "    </tr>\n",
       "    <tr>\n",
       "      <th>6</th>\n",
       "      <td>G</td>\n",
       "      <td>1</td>\n",
       "      <td>4</td>\n",
       "      <td>12</td>\n",
       "      <td>1</td>\n",
       "      <td>-5.625</td>\n",
       "      <td>-2.125</td>\n",
       "      <td>5.375</td>\n",
       "    </tr>\n",
       "    <tr>\n",
       "      <th>7</th>\n",
       "      <td>H</td>\n",
       "      <td>7</td>\n",
       "      <td>3</td>\n",
       "      <td>4</td>\n",
       "      <td>0</td>\n",
       "      <td>0.375</td>\n",
       "      <td>-3.125</td>\n",
       "      <td>-2.625</td>\n",
       "    </tr>\n",
       "  </tbody>\n",
       "</table>\n",
       "</div>"
      ],
      "text/plain": [
       "  estudante  linguagem  raciocinio_logico  raciocinio_geom  sexo  lin_des  \\\n",
       "0         A          2                  3               15     1   -4.625   \n",
       "1         B          6                  8                9     1   -0.625   \n",
       "2         C          5                  2                7     0   -1.625   \n",
       "3         D          9                  4                3     1    2.375   \n",
       "4         E         11                 10                2     0    4.375   \n",
       "5         F         12                 15                1     0    5.375   \n",
       "6         G          1                  4               12     1   -5.625   \n",
       "7         H          7                  3                4     0    0.375   \n",
       "\n",
       "   rac_log_des  rac_geo_des  \n",
       "0       -3.125        8.375  \n",
       "1        1.875        2.375  \n",
       "2       -4.125        0.375  \n",
       "3       -2.125       -3.625  \n",
       "4        3.875       -4.625  \n",
       "5        8.875       -5.625  \n",
       "6       -2.125        5.375  \n",
       "7       -3.125       -2.625  "
      ]
     },
     "execution_count": 68,
     "metadata": {},
     "output_type": "execute_result"
    }
   ],
   "source": [
    "educ_scores"
   ]
  },
  {
   "cell_type": "code",
   "execution_count": 95,
   "metadata": {},
   "outputs": [],
   "source": [
    "# matriz de dados padronizados\n",
    "educ_scores['lin_norm'] = educ_scores['lin_des'] / educ_scores['linguagem'].std()\n",
    "educ_scores['rac_log_norm'] = educ_scores['rac_log_des'] / educ_scores['raciocinio_logico'].std()\n",
    "educ_scores['rac_geo_norm'] = educ_scores['rac_geo_des'] / educ_scores['raciocinio_geom'].std()"
   ]
  },
  {
   "cell_type": "code",
   "execution_count": 96,
   "metadata": {},
   "outputs": [
    {
     "data": {
      "text/html": [
       "<div>\n",
       "<style scoped>\n",
       "    .dataframe tbody tr th:only-of-type {\n",
       "        vertical-align: middle;\n",
       "    }\n",
       "\n",
       "    .dataframe tbody tr th {\n",
       "        vertical-align: top;\n",
       "    }\n",
       "\n",
       "    .dataframe thead th {\n",
       "        text-align: right;\n",
       "    }\n",
       "</style>\n",
       "<table border=\"1\" class=\"dataframe\">\n",
       "  <thead>\n",
       "    <tr style=\"text-align: right;\">\n",
       "      <th></th>\n",
       "      <th>estudante</th>\n",
       "      <th>linguagem</th>\n",
       "      <th>raciocinio_logico</th>\n",
       "      <th>raciocinio_geom</th>\n",
       "      <th>sexo</th>\n",
       "      <th>lin_des</th>\n",
       "      <th>rac_log_des</th>\n",
       "      <th>rac_geo_des</th>\n",
       "      <th>lin_norm</th>\n",
       "      <th>rac_log_norm</th>\n",
       "      <th>rac_geo_norm</th>\n",
       "    </tr>\n",
       "  </thead>\n",
       "  <tbody>\n",
       "    <tr>\n",
       "      <th>0</th>\n",
       "      <td>A</td>\n",
       "      <td>2</td>\n",
       "      <td>3</td>\n",
       "      <td>15</td>\n",
       "      <td>1</td>\n",
       "      <td>-4.625</td>\n",
       "      <td>-3.125</td>\n",
       "      <td>8.375</td>\n",
       "      <td>-1.167377</td>\n",
       "      <td>-0.691705</td>\n",
       "      <td>1.661408</td>\n",
       "    </tr>\n",
       "    <tr>\n",
       "      <th>1</th>\n",
       "      <td>B</td>\n",
       "      <td>6</td>\n",
       "      <td>8</td>\n",
       "      <td>9</td>\n",
       "      <td>1</td>\n",
       "      <td>-0.625</td>\n",
       "      <td>1.875</td>\n",
       "      <td>2.375</td>\n",
       "      <td>-0.157754</td>\n",
       "      <td>0.415023</td>\n",
       "      <td>0.471146</td>\n",
       "    </tr>\n",
       "    <tr>\n",
       "      <th>2</th>\n",
       "      <td>C</td>\n",
       "      <td>5</td>\n",
       "      <td>2</td>\n",
       "      <td>7</td>\n",
       "      <td>0</td>\n",
       "      <td>-1.625</td>\n",
       "      <td>-4.125</td>\n",
       "      <td>0.375</td>\n",
       "      <td>-0.410160</td>\n",
       "      <td>-0.913051</td>\n",
       "      <td>0.074391</td>\n",
       "    </tr>\n",
       "    <tr>\n",
       "      <th>3</th>\n",
       "      <td>D</td>\n",
       "      <td>9</td>\n",
       "      <td>4</td>\n",
       "      <td>3</td>\n",
       "      <td>1</td>\n",
       "      <td>2.375</td>\n",
       "      <td>-2.125</td>\n",
       "      <td>-3.625</td>\n",
       "      <td>0.599464</td>\n",
       "      <td>-0.470359</td>\n",
       "      <td>-0.719117</td>\n",
       "    </tr>\n",
       "    <tr>\n",
       "      <th>4</th>\n",
       "      <td>E</td>\n",
       "      <td>11</td>\n",
       "      <td>10</td>\n",
       "      <td>2</td>\n",
       "      <td>0</td>\n",
       "      <td>4.375</td>\n",
       "      <td>3.875</td>\n",
       "      <td>-4.625</td>\n",
       "      <td>1.104276</td>\n",
       "      <td>0.857714</td>\n",
       "      <td>-0.917494</td>\n",
       "    </tr>\n",
       "    <tr>\n",
       "      <th>5</th>\n",
       "      <td>F</td>\n",
       "      <td>12</td>\n",
       "      <td>15</td>\n",
       "      <td>1</td>\n",
       "      <td>0</td>\n",
       "      <td>5.375</td>\n",
       "      <td>8.875</td>\n",
       "      <td>-5.625</td>\n",
       "      <td>1.356682</td>\n",
       "      <td>1.964442</td>\n",
       "      <td>-1.115871</td>\n",
       "    </tr>\n",
       "    <tr>\n",
       "      <th>6</th>\n",
       "      <td>G</td>\n",
       "      <td>1</td>\n",
       "      <td>4</td>\n",
       "      <td>12</td>\n",
       "      <td>1</td>\n",
       "      <td>-5.625</td>\n",
       "      <td>-2.125</td>\n",
       "      <td>5.375</td>\n",
       "      <td>-1.419783</td>\n",
       "      <td>-0.470359</td>\n",
       "      <td>1.066277</td>\n",
       "    </tr>\n",
       "    <tr>\n",
       "      <th>7</th>\n",
       "      <td>H</td>\n",
       "      <td>7</td>\n",
       "      <td>3</td>\n",
       "      <td>4</td>\n",
       "      <td>0</td>\n",
       "      <td>0.375</td>\n",
       "      <td>-3.125</td>\n",
       "      <td>-2.625</td>\n",
       "      <td>0.094652</td>\n",
       "      <td>-0.691705</td>\n",
       "      <td>-0.520740</td>\n",
       "    </tr>\n",
       "  </tbody>\n",
       "</table>\n",
       "</div>"
      ],
      "text/plain": [
       "  estudante  linguagem  raciocinio_logico  raciocinio_geom  sexo  lin_des  \\\n",
       "0         A          2                  3               15     1   -4.625   \n",
       "1         B          6                  8                9     1   -0.625   \n",
       "2         C          5                  2                7     0   -1.625   \n",
       "3         D          9                  4                3     1    2.375   \n",
       "4         E         11                 10                2     0    4.375   \n",
       "5         F         12                 15                1     0    5.375   \n",
       "6         G          1                  4               12     1   -5.625   \n",
       "7         H          7                  3                4     0    0.375   \n",
       "\n",
       "   rac_log_des  rac_geo_des  lin_norm  rac_log_norm  rac_geo_norm  \n",
       "0       -3.125        8.375 -1.167377     -0.691705      1.661408  \n",
       "1        1.875        2.375 -0.157754      0.415023      0.471146  \n",
       "2       -4.125        0.375 -0.410160     -0.913051      0.074391  \n",
       "3       -2.125       -3.625  0.599464     -0.470359     -0.719117  \n",
       "4        3.875       -4.625  1.104276      0.857714     -0.917494  \n",
       "5        8.875       -5.625  1.356682      1.964442     -1.115871  \n",
       "6       -2.125        5.375 -1.419783     -0.470359      1.066277  \n",
       "7       -3.125       -2.625  0.094652     -0.691705     -0.520740  "
      ]
     },
     "execution_count": 96,
     "metadata": {},
     "output_type": "execute_result"
    }
   ],
   "source": [
    "educ_scores"
   ]
  },
  {
   "cell_type": "markdown",
   "metadata": {},
   "source": [
    "A matriz quadrada $X_{d}'X_{d}$"
   ]
  },
  {
   "cell_type": "code",
   "execution_count": 97,
   "metadata": {},
   "outputs": [
    {
     "name": "stderr",
     "output_type": "stream",
     "text": [
      "/home/cloves/.local/lib/python3.6/site-packages/ipykernel_launcher.py:1: FutureWarning: Method .as_matrix will be removed in a future version. Use .values instead.\n",
      "  \"\"\"Entry point for launching an IPython kernel.\n"
     ]
    },
    {
     "data": {
      "text/plain": [
       "array([[-4.625, -3.125,  8.375],\n",
       "       [-0.625,  1.875,  2.375],\n",
       "       [-1.625, -4.125,  0.375],\n",
       "       [ 2.375, -2.125, -3.625],\n",
       "       [ 4.375,  3.875, -4.625],\n",
       "       [ 5.375,  8.875, -5.625],\n",
       "       [-5.625, -2.125,  5.375],\n",
       "       [ 0.375, -3.125, -2.625]])"
      ]
     },
     "execution_count": 97,
     "metadata": {},
     "output_type": "execute_result"
    }
   ],
   "source": [
    "X = educ_scores.iloc[:, 5:8].as_matrix();\n",
    "X"
   ]
  },
  {
   "cell_type": "code",
   "execution_count": 98,
   "metadata": {},
   "outputs": [
    {
     "data": {
      "text/plain": [
       "array([[-4.625, -0.625, -1.625,  2.375,  4.375,  5.375, -5.625,  0.375],\n",
       "       [-3.125,  1.875, -4.125, -2.125,  3.875,  8.875, -2.125, -3.125],\n",
       "       [ 8.375,  2.375,  0.375, -3.625, -4.625, -5.625,  5.375, -2.625]])"
      ]
     },
     "execution_count": 98,
     "metadata": {},
     "output_type": "execute_result"
    }
   ],
   "source": [
    "X_linha = np.matrix.transpose(X)\n",
    "X_linha"
   ]
  },
  {
   "cell_type": "code",
   "execution_count": 99,
   "metadata": {},
   "outputs": [
    {
     "data": {
      "text/plain": [
       "array([[ 109.875,   90.375, -131.125],\n",
       "       [  90.375,  142.875,  -86.625],\n",
       "       [-131.125,  -86.625,  177.875]])"
      ]
     },
     "execution_count": 99,
     "metadata": {},
     "output_type": "execute_result"
    }
   ],
   "source": [
    "X2 = np.dot(X_linha, X)\n",
    "X2"
   ]
  },
  {
   "cell_type": "markdown",
   "metadata": {},
   "source": [
    "A matriz de covariância $S = \\frac{1}{n - 1} \\cdot X_{d}'X_{d}$"
   ]
  },
  {
   "cell_type": "code",
   "execution_count": 100,
   "metadata": {},
   "outputs": [
    {
     "data": {
      "text/plain": [
       "array([[ 15.69642857,  12.91071429, -18.73214286],\n",
       "       [ 12.91071429,  20.41071429, -12.375     ],\n",
       "       [-18.73214286, -12.375     ,  25.41071429]])"
      ]
     },
     "execution_count": 100,
     "metadata": {},
     "output_type": "execute_result"
    }
   ],
   "source": [
    "S = (1/(8-1))*X2\n",
    "S"
   ]
  },
  {
   "cell_type": "markdown",
   "metadata": {},
   "source": [
    "Matriz de desvio padrão $X_{s}$ e a matriz $X'_{s}X_{s}$"
   ]
  },
  {
   "cell_type": "code",
   "execution_count": 101,
   "metadata": {},
   "outputs": [
    {
     "name": "stderr",
     "output_type": "stream",
     "text": [
      "/home/cloves/.local/lib/python3.6/site-packages/ipykernel_launcher.py:1: FutureWarning: Method .as_matrix will be removed in a future version. Use .values instead.\n",
      "  \"\"\"Entry point for launching an IPython kernel.\n"
     ]
    },
    {
     "data": {
      "text/plain": [
       "array([[-1.16737749, -0.69170501,  1.66140831],\n",
       "       [-0.15775371,  0.415023  ,  0.47114564],\n",
       "       [-0.41015966, -0.91305061,  0.07439142],\n",
       "       [ 0.59946411, -0.47035941, -0.71911703],\n",
       "       [ 1.104276  ,  0.85771421, -0.91749414],\n",
       "       [ 1.35668194,  1.96444222, -1.11587126],\n",
       "       [-1.41978343, -0.47035941,  1.06627698],\n",
       "       [ 0.09465223, -0.69170501, -0.52073992]])"
      ]
     },
     "execution_count": 101,
     "metadata": {},
     "output_type": "execute_result"
    }
   ],
   "source": [
    "Xs = educ_scores.iloc[:, 8:].as_matrix()\n",
    "Xs"
   ]
  },
  {
   "cell_type": "code",
   "execution_count": 102,
   "metadata": {},
   "outputs": [
    {
     "data": {
      "text/plain": [
       "array([[-1.16737749, -0.15775371, -0.41015966,  0.59946411,  1.104276  ,\n",
       "         1.35668194, -1.41978343,  0.09465223],\n",
       "       [-0.69170501,  0.415023  , -0.91305061, -0.47035941,  0.85771421,\n",
       "         1.96444222, -0.47035941, -0.69170501],\n",
       "       [ 1.66140831,  0.47114564,  0.07439142, -0.71911703, -0.91749414,\n",
       "        -1.11587126,  1.06627698, -0.52073992]])"
      ]
     },
     "execution_count": 102,
     "metadata": {},
     "output_type": "execute_result"
    }
   ],
   "source": [
    "XsLinha = np.matrix.transpose(Xs)\n",
    "XsLinha"
   ]
  },
  {
   "cell_type": "code",
   "execution_count": 103,
   "metadata": {},
   "outputs": [
    {
     "data": {
      "text/plain": [
       "array([[ 7.        ,  5.04915595, -6.56563356],\n",
       "       [ 5.04915595,  7.        , -3.80369521],\n",
       "       [-6.56563356, -3.80369521,  7.        ]])"
      ]
     },
     "execution_count": 103,
     "metadata": {},
     "output_type": "execute_result"
    }
   ],
   "source": [
    "Xs2 = np.dot(XsLinha, Xs)\n",
    "Xs2"
   ]
  },
  {
   "cell_type": "markdown",
   "metadata": {},
   "source": [
    "Matriz de correlação $R = \\frac{1}{n - 1} \\cdot X_{s}'X_{s}$"
   ]
  },
  {
   "cell_type": "code",
   "execution_count": 104,
   "metadata": {},
   "outputs": [
    {
     "data": {
      "text/plain": [
       "array([[ 1.        ,  0.72130799, -0.93794765],\n",
       "       [ 0.72130799,  1.        , -0.54338503],\n",
       "       [-0.93794765, -0.54338503,  1.        ]])"
      ]
     },
     "execution_count": 104,
     "metadata": {},
     "output_type": "execute_result"
    }
   ],
   "source": [
    "R = (1/(8 - 1))*Xs2\n",
    "R"
   ]
  }
 ],
 "metadata": {
  "kernelspec": {
   "display_name": "Python 3",
   "language": "python",
   "name": "python3"
  },
  "language_info": {
   "codemirror_mode": {
    "name": "ipython",
    "version": 3
   },
   "file_extension": ".py",
   "mimetype": "text/x-python",
   "name": "python",
   "nbconvert_exporter": "python",
   "pygments_lexer": "ipython3",
   "version": "3.6.7"
  }
 },
 "nbformat": 4,
 "nbformat_minor": 2
}
